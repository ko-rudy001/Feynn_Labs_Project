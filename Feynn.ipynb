{
 "cells": [
  {
   "cell_type": "markdown",
   "id": "eb730ea6",
   "metadata": {},
   "source": [
    "# Step 5: Extracting Segments"
   ]
  },
  {
   "cell_type": "code",
   "execution_count": 1,
   "id": "0a01e5ec",
   "metadata": {},
   "outputs": [],
   "source": [
    "import numpy as np\n",
    "import pandas as pd\n",
    "import matplotlib.pyplot as plt\n",
    "%matplotlib inline"
   ]
  },
  {
   "cell_type": "code",
   "execution_count": 2,
   "id": "fe8ab2af",
   "metadata": {},
   "outputs": [],
   "source": [
    "mcdonalds = pd.read_csv('mcdonalds.csv')"
   ]
  },
  {
   "cell_type": "code",
   "execution_count": 3,
   "id": "d777b3d6",
   "metadata": {},
   "outputs": [
    {
     "data": {
      "text/plain": [
       "(1453, 15)"
      ]
     },
     "execution_count": 3,
     "metadata": {},
     "output_type": "execute_result"
    }
   ],
   "source": [
    "mcdonalds.shape"
   ]
  },
  {
   "cell_type": "code",
   "execution_count": 4,
   "id": "a807e988",
   "metadata": {},
   "outputs": [
    {
     "data": {
      "text/html": [
       "<div>\n",
       "<style scoped>\n",
       "    .dataframe tbody tr th:only-of-type {\n",
       "        vertical-align: middle;\n",
       "    }\n",
       "\n",
       "    .dataframe tbody tr th {\n",
       "        vertical-align: top;\n",
       "    }\n",
       "\n",
       "    .dataframe thead th {\n",
       "        text-align: right;\n",
       "    }\n",
       "</style>\n",
       "<table border=\"1\" class=\"dataframe\">\n",
       "  <thead>\n",
       "    <tr style=\"text-align: right;\">\n",
       "      <th></th>\n",
       "      <th>yummy</th>\n",
       "      <th>convenient</th>\n",
       "      <th>spicy</th>\n",
       "      <th>fattening</th>\n",
       "      <th>greasy</th>\n",
       "      <th>fast</th>\n",
       "      <th>cheap</th>\n",
       "      <th>tasty</th>\n",
       "      <th>expensive</th>\n",
       "      <th>healthy</th>\n",
       "      <th>disgusting</th>\n",
       "      <th>Like</th>\n",
       "      <th>Age</th>\n",
       "      <th>VisitFrequency</th>\n",
       "      <th>Gender</th>\n",
       "    </tr>\n",
       "  </thead>\n",
       "  <tbody>\n",
       "    <tr>\n",
       "      <th>0</th>\n",
       "      <td>No</td>\n",
       "      <td>Yes</td>\n",
       "      <td>No</td>\n",
       "      <td>Yes</td>\n",
       "      <td>No</td>\n",
       "      <td>Yes</td>\n",
       "      <td>Yes</td>\n",
       "      <td>No</td>\n",
       "      <td>Yes</td>\n",
       "      <td>No</td>\n",
       "      <td>No</td>\n",
       "      <td>-3</td>\n",
       "      <td>61</td>\n",
       "      <td>Every three months</td>\n",
       "      <td>Female</td>\n",
       "    </tr>\n",
       "    <tr>\n",
       "      <th>1</th>\n",
       "      <td>Yes</td>\n",
       "      <td>Yes</td>\n",
       "      <td>No</td>\n",
       "      <td>Yes</td>\n",
       "      <td>Yes</td>\n",
       "      <td>Yes</td>\n",
       "      <td>Yes</td>\n",
       "      <td>Yes</td>\n",
       "      <td>Yes</td>\n",
       "      <td>No</td>\n",
       "      <td>No</td>\n",
       "      <td>+2</td>\n",
       "      <td>51</td>\n",
       "      <td>Every three months</td>\n",
       "      <td>Female</td>\n",
       "    </tr>\n",
       "    <tr>\n",
       "      <th>2</th>\n",
       "      <td>No</td>\n",
       "      <td>Yes</td>\n",
       "      <td>Yes</td>\n",
       "      <td>Yes</td>\n",
       "      <td>Yes</td>\n",
       "      <td>Yes</td>\n",
       "      <td>No</td>\n",
       "      <td>Yes</td>\n",
       "      <td>Yes</td>\n",
       "      <td>Yes</td>\n",
       "      <td>No</td>\n",
       "      <td>+1</td>\n",
       "      <td>62</td>\n",
       "      <td>Every three months</td>\n",
       "      <td>Female</td>\n",
       "    </tr>\n",
       "  </tbody>\n",
       "</table>\n",
       "</div>"
      ],
      "text/plain": [
       "  yummy convenient spicy fattening greasy fast cheap tasty expensive healthy  \\\n",
       "0    No        Yes    No       Yes     No  Yes   Yes    No       Yes      No   \n",
       "1   Yes        Yes    No       Yes    Yes  Yes   Yes   Yes       Yes      No   \n",
       "2    No        Yes   Yes       Yes    Yes  Yes    No   Yes       Yes     Yes   \n",
       "\n",
       "  disgusting Like  Age      VisitFrequency  Gender  \n",
       "0         No   -3   61  Every three months  Female  \n",
       "1         No   +2   51  Every three months  Female  \n",
       "2         No   +1   62  Every three months  Female  "
      ]
     },
     "execution_count": 4,
     "metadata": {},
     "output_type": "execute_result"
    }
   ],
   "source": [
    "mcdonalds.head(3)"
   ]
  },
  {
   "cell_type": "code",
   "execution_count": 5,
   "id": "26b2aa93",
   "metadata": {},
   "outputs": [
    {
     "name": "stdout",
     "output_type": "stream",
     "text": [
      "[0.55 0.91 0.09 0.87 0.53 0.9  0.6  0.64 0.36 0.2  0.24]\n"
     ]
    }
   ],
   "source": [
    "# Extract the first eleven columns and convert to matrix\n",
    "MD_x = np.array(mcdonalds.iloc[:, :11])\n",
    "\n",
    "# Transform \"Yes\" entries to 1 and other entries to 0\n",
    "MD_x = (MD_x == \"Yes\").astype(int)\n",
    "\n",
    "# Calculate the column means and round to 2 decimal places\n",
    "col_means = np.round(np.mean(MD_x, axis=0), 2)\n",
    "print(col_means)"
   ]
  },
  {
   "cell_type": "code",
   "execution_count": 6,
   "id": "98de4f06",
   "metadata": {},
   "outputs": [
    {
     "name": "stdout",
     "output_type": "stream",
     "text": [
      "PCA Summary:\n",
      "------------\n",
      "Explained Variance Ratio:\n",
      "[0.29944723 0.19279721 0.13304535 0.08309578 0.05948052 0.05029956\n",
      " 0.0438491  0.03954779 0.0367609  0.03235329 0.02932326]\n",
      "\n",
      "Explained Variance:\n",
      "[0.57312398 0.36900226 0.2546408  0.15904032 0.11384214 0.09627033\n",
      " 0.08392454 0.07569209 0.07035814 0.06192225 0.05612296]\n",
      "\n",
      "Standard Deviation:\n",
      "[0.75704952 0.60745556 0.50461946 0.39879859 0.33740501 0.31027461\n",
      " 0.28969732 0.27512196 0.2652511  0.24884182 0.23690284]\n",
      "\n",
      "Cumulative Variance Explained:\n",
      "[0.29944723 0.49224445 0.6252898  0.70838558 0.7678661  0.81816566\n",
      " 0.86201476 0.90156255 0.93832345 0.97067674 1.        ]\n"
     ]
    }
   ],
   "source": [
    "import numpy as np\n",
    "from sklearn.decomposition import PCA\n",
    "\n",
    "# Perform PCA\n",
    "pca = PCA()\n",
    "MD_pca = pca.fit_transform(MD_x)\n",
    "\n",
    "# Get the explained variance ratio\n",
    "explained_variance_ratio = pca.explained_variance_ratio_\n",
    "\n",
    "# Get the explained variance\n",
    "explained_variance = pca.explained_variance_\n",
    "\n",
    "# Get the standard deviation\n",
    "standard_deviation = np.sqrt(explained_variance)\n",
    "\n",
    "# Summarize the PCA results\n",
    "variance_explained = np.cumsum(explained_variance_ratio)\n",
    "\n",
    "print(\"PCA Summary:\")\n",
    "print(\"------------\")\n",
    "print(\"Explained Variance Ratio:\")\n",
    "print(explained_variance_ratio)\n",
    "print(\"\\nExplained Variance:\")\n",
    "print(explained_variance)\n",
    "print(\"\\nStandard Deviation:\")\n",
    "print(standard_deviation)\n",
    "print(\"\\nCumulative Variance Explained:\")\n",
    "print(variance_explained)"
   ]
  },
  {
   "cell_type": "code",
   "execution_count": 7,
   "id": "7a4f41c2",
   "metadata": {},
   "outputs": [],
   "source": [
    "import numpy as np\n",
    "from sklearn.cluster import KMeans\n",
    "\n",
    "# Set the random seed\n",
    "np.random.seed(1234)\n",
    "\n",
    "# Define the number of segments range\n",
    "segment_range = range(2, 9)\n",
    "n_restarts = 10\n",
    "\n",
    "# Perform K-means clustering with multiple random restarts\n",
    "MD_kmeans = {}\n",
    "\n",
    "for n_segments in segment_range:\n",
    "    kmeans = KMeans(n_clusters=n_segments, n_init=n_restarts, random_state=1234)\n",
    "    labels = kmeans.fit_predict(MD_x)\n",
    "    MD_kmeans[str(n_segments)] = labels\n",
    "\n",
    "# Relabel the segment numbers\n",
    "segment_range = range(2, 9)\n",
    "relabeled_MD_kmeans = {}\n",
    "\n",
    "for n_segments in segment_range:\n",
    "    labels = MD_kmeans[str(n_segments)]\n",
    "    unique_labels = np.unique(labels)\n",
    "    relabeled_labels = np.arange(len(unique_labels))\n",
    "    relabel_mapping = dict(zip(unique_labels, relabeled_labels))\n",
    "    relabeled_MD_kmeans[str(n_segments)] = [relabel_mapping[label] for label in labels]\n",
    "\n",
    "MD_km28 = relabeled_MD_kmeans"
   ]
  },
  {
   "cell_type": "code",
   "execution_count": 8,
   "id": "270beaf4",
   "metadata": {},
   "outputs": [
    {
     "data": {
      "image/png": "[encoded data removed]",
      "text/plain": [
       "<Figure size 640x480 with 1 Axes>"
      ]
     },
     "metadata": {},
     "output_type": "display_data"
    }
   ],
   "source": [
    "import matplotlib.pyplot as plt\n",
    "from sklearn.cluster import KMeans\n",
    "\n",
    "wcss = []\n",
    "\n",
    "# Calculate the WCSS for each solution\n",
    "for n in segment_range:\n",
    "    kmeans = KMeans(n_clusters=n, n_init=n_restarts)\n",
    "    kmeans.fit(MD_x)\n",
    "    wcss.append(kmeans.inertia_)\n",
    "\n",
    "# Plot the scree plot\n",
    "plt.plot(segment_range, wcss, marker='o')\n",
    "plt.xlabel('Number of Segments')\n",
    "plt.ylabel('Within-Cluster Sum of Squares (WCSS)')\n",
    "plt.title('Scree Plot')\n",
    "plt.show()"
   ]
  },
  {
   "cell_type": "code",
   "execution_count": 9,
   "id": "193327f7",
   "metadata": {},
   "outputs": [],
   "source": [
    "import numpy as np\n",
    "from sklearn.cluster import KMeans\n",
    "from sklearn.utils import resample\n",
    "\n",
    "np.random.seed(1234)\n",
    "\n",
    "n_segments = range(2, 9)\n",
    "n_restarts = 10\n",
    "n_bootstraps = 100\n",
    "boot_results = []\n",
    "\n",
    "for n in n_segments:\n",
    "    segment_results = []\n",
    "    for _ in range(n_bootstraps):\n",
    "        # Resample the data with replacement\n",
    "        bootstrap_data = resample(MD_x)\n",
    "\n",
    "        # Apply K-means clustering\n",
    "        kmeans = KMeans(n_clusters=n, n_init=n_restarts)\n",
    "        labels = kmeans.fit_predict(bootstrap_data)\n",
    "\n",
    "        # Store the clustering results\n",
    "        segment_results.append(labels)\n",
    "\n",
    "    boot_results.append(segment_results)\n",
    "\n",
    "# Convert the results to a dictionary format\n",
    "MD_b28 = {}\n",
    "for i, n in enumerate(n_segments):\n",
    "    MD_b28[str(n)] = boot_results[i]\n"
   ]
  },
  {
   "cell_type": "code",
   "execution_count": 10,
   "id": "55aa6fc2",
   "metadata": {},
   "outputs": [
    {
     "data": {
      "image/png": "[encoded data removed]",
      "text/plain": [
       "<Figure size 640x480 with 1 Axes>"
      ]
     },
     "metadata": {},
     "output_type": "display_data"
    }
   ],
   "source": [
    "import numpy as np\n",
    "import matplotlib.pyplot as plt\n",
    "from sklearn.cluster import KMeans\n",
    "\n",
    "np.random.seed(1234)\n",
    "\n",
    "n_segments = range(2, 9)\n",
    "n_restarts = 10\n",
    "n_bootstraps = 100\n",
    "boot_results = []\n",
    "\n",
    "for n in n_segments:\n",
    "    segment_results = []\n",
    "    for _ in range(n_bootstraps):\n",
    "        # Resample the data with replacement\n",
    "        bootstrap_data = resample(MD_x)\n",
    "\n",
    "        # Apply K-means clustering\n",
    "        kmeans = KMeans(n_clusters=n, n_init=n_restarts)\n",
    "        labels = kmeans.fit_predict(bootstrap_data)\n",
    "\n",
    "        # Calculate the within-cluster sum of squares (WCSS)\n",
    "        cluster_centers = kmeans.cluster_centers_\n",
    "        wcss = np.sum((bootstrap_data - cluster_centers[labels]) ** 2)\n",
    "        segment_results.append(wcss)\n",
    "    boot_results.append(segment_results)\n",
    "\n",
    "# Plot the global stability boxplot\n",
    "plt.boxplot(boot_results)\n",
    "plt.xlabel('Number of Segments')\n",
    "plt.ylabel('Within-Cluster Sum of Squares (WCSS)')\n",
    "plt.xticks(range(1, len(n_segments) + 1), n_segments)\n",
    "plt.title('Global Stability')\n",
    "plt.show()"
   ]
  },
  {
   "cell_type": "code",
   "execution_count": 11,
   "id": "1b32b55e",
   "metadata": {},
   "outputs": [
    {
     "data": {
      "image/png": "[encoded data removed]",
      "text/plain": [
       "<Figure size 640x480 with 1 Axes>"
      ]
     },
     "metadata": {},
     "output_type": "display_data"
    }
   ],
   "source": [
    "import matplotlib.pyplot as plt\n",
    "\n",
    "# Select the segment labeled \"4\" from MD_km28\n",
    "segment_4 = MD_km28['4']\n",
    "\n",
    "# Create the histogram plot\n",
    "plt.hist(segment_4, bins=10, range=(0, 1))\n",
    "plt.xlabel('Segment Value')\n",
    "plt.ylabel('Frequency')\n",
    "plt.title('Histogram of Segment 4')\n",
    "plt.xlim(0, 1)\n",
    "plt.show()"
   ]
  },
  {
   "cell_type": "code",
   "execution_count": 12,
   "id": "adcd1dea",
   "metadata": {},
   "outputs": [
    {
     "data": {
      "image/png": "[encoded data removed]",
      "text/plain": [
       "<Figure size 640x480 with 1 Axes>"
      ]
     },
     "metadata": {},
     "output_type": "display_data"
    }
   ],
   "source": [
    "from sklearn.metrics import silhouette_samples, silhouette_score\n",
    "import matplotlib.pyplot as plt\n",
    "\n",
    "# Compute the silhouette scores\n",
    "silhouette_scores = silhouette_samples(MD_x, MD_km28['4'])\n",
    "\n",
    "# Compute the average silhouette score\n",
    "avg_silhouette_score = silhouette_score(MD_x, MD_km28['4'])\n",
    "\n",
    "# Create a silhouette plot\n",
    "fig, ax = plt.subplots()\n",
    "y_lower = 10\n",
    "for i, score in enumerate(silhouette_scores):\n",
    "    ax.barh(i, score, height=0.7)\n",
    "    y_lower += 1\n",
    "\n",
    "ax.set_xlabel('Silhouette coefficient')\n",
    "ax.set_ylabel('Sample')\n",
    "ax.axvline(x=avg_silhouette_score, color='red', linestyle='--')\n",
    "ax.set_yticks([])\n",
    "\n",
    "plt.title('Silhouette Plot for Segment 4')\n",
    "plt.show()"
   ]
  },
  {
   "cell_type": "code",
   "execution_count": 14,
   "id": "d1a96dae",
   "metadata": {},
   "outputs": [
    {
     "name": "stdout",
     "output_type": "stream",
     "text": [
      "Average Silhouette Score: 0.2574888202082713\n"
     ]
    }
   ],
   "source": [
    "from sklearn.metrics import silhouette_score\n",
    "\n",
    "# Calculate the silhouette score for each sample in the four-segment solution\n",
    "silhouette_scores = silhouette_score(MD_x, MD_k4)\n",
    "\n",
    "# Print the average silhouette score\n",
    "print(\"Average Silhouette Score:\", silhouette_scores)"
   ]
  },
  {
   "cell_type": "code",
   "execution_count": 15,
   "id": "e6216ad6",
   "metadata": {
    "scrolled": true
   },
   "outputs": [
    {
     "data": {
      "image/png": "[encoded data removed]",
      "text/plain": [
       "<Figure size 640x480 with 1 Axes>"
      ]
     },
     "metadata": {},
     "output_type": "display_data"
    }
   ],
   "source": [
    "from sklearn.cluster import KMeans\n",
    "\n",
    "# Perform K-means clustering with the chosen solution (MD.k4)\n",
    "kmeans = KMeans(n_clusters=4)\n",
    "labels = kmeans.fit_predict(MD_x)  # MD_x is your data matrix\n",
    "\n",
    "# Calculate the within-cluster sum of squares (WCSS) for each segment\n",
    "segment_stability_values = []\n",
    "for i in range(4):  # Replace 4 with the actual number of segments in MD.k4\n",
    "    segment_points = MD_x[labels == i]  # Data points belonging to the segment i\n",
    "    segment_wcss = np.sum(np.square(segment_points - kmeans.cluster_centers_[i]))\n",
    "    segment_stability = 1 - (segment_wcss / len(segment_points))\n",
    "    segment_stability_values.append(segment_stability)\n",
    "\n",
    "# Plot the segment stability result\n",
    "plt.plot(segment_stability_values)\n",
    "plt.ylim(0, 1)\n",
    "plt.xlabel('Segment Number')\n",
    "plt.ylabel('Segment Stability')\n",
    "plt.show()"
   ]
  },
  {
   "cell_type": "code",
   "execution_count": null,
   "id": "cb99461e",
   "metadata": {},
   "outputs": [],
   "source": []
  },
  {
   "cell_type": "markdown",
   "id": "926b5cc0",
   "metadata": {},
   "source": [
    "# Using Mixtures of Distributions"
   ]
  },
  {
   "cell_type": "code",
   "execution_count": 16,
   "id": "be4317be",
   "metadata": {},
   "outputs": [
    {
     "name": "stdout",
     "output_type": "stream",
     "text": [
      "Number of Components: 2\n",
      "Cluster Labels: [1 1 1 ... 1 1 0]\n",
      "\n",
      "Number of Components: 3\n",
      "Cluster Labels: [2 1 1 ... 1 0 2]\n",
      "\n",
      "Number of Components: 4\n",
      "Cluster Labels: [3 3 2 ... 3 0 3]\n",
      "\n",
      "Number of Components: 5\n",
      "Cluster Labels: [3 4 4 ... 4 2 3]\n",
      "\n",
      "Number of Components: 6\n",
      "Cluster Labels: [1 0 5 ... 4 4 3]\n",
      "\n",
      "Number of Components: 7\n",
      "Cluster Labels: [4 0 0 ... 3 5 6]\n",
      "\n",
      "Number of Components: 8\n",
      "Cluster Labels: [3 5 5 ... 5 6 0]\n",
      "\n"
     ]
    }
   ],
   "source": [
    "import numpy as np\n",
    "from sklearn.mixture import GaussianMixture\n",
    "\n",
    "np.random.seed(1234)\n",
    "\n",
    "n_components = range(2, 9)\n",
    "n_restarts = 10\n",
    "\n",
    "MD_m28 = {}\n",
    "\n",
    "# Perform model-based clustering for each number of components\n",
    "for n in n_components:\n",
    "    gm = GaussianMixture(n_components=n, n_init=n_restarts, random_state=1234)\n",
    "    gm.fit(MD_x)\n",
    "    MD_m28[str(n)] = gm.predict(MD_x)\n",
    "\n",
    "# Print the clustering results\n",
    "for n, labels in MD_m28.items():\n",
    "    print(\"Number of Components:\", n)\n",
    "    print(\"Cluster Labels:\", labels)\n",
    "    print()"
   ]
  },
  {
   "cell_type": "code",
   "execution_count": 17,
   "id": "9f6020be",
   "metadata": {},
   "outputs": [
    {
     "name": "stdout",
     "output_type": "stream",
     "text": [
      "Number of Segments: 2\n",
      "GaussianMixture(n_components=2, random_state=1234)\n",
      "\n",
      "Number of Segments: 3\n",
      "GaussianMixture(n_components=3, random_state=1234)\n",
      "\n",
      "Number of Segments: 4\n",
      "GaussianMixture(n_components=4, random_state=1234)\n",
      "\n",
      "Number of Segments: 5\n",
      "GaussianMixture(n_components=5, random_state=1234)\n",
      "\n",
      "Number of Segments: 6\n",
      "GaussianMixture(n_components=6, random_state=1234)\n",
      "\n",
      "Number of Segments: 7\n",
      "GaussianMixture(n_components=7, random_state=1234)\n",
      "\n",
      "Number of Segments: 8\n",
      "GaussianMixture(n_components=8, random_state=1234)\n",
      "\n"
     ]
    }
   ],
   "source": [
    "import numpy as np\n",
    "from sklearn.mixture import GaussianMixture\n",
    "\n",
    "np.random.seed(1234)\n",
    "\n",
    "# Perform model-based clustering for different number of segments\n",
    "n_segments = range(2, 9)\n",
    "results = {}\n",
    "\n",
    "for n in n_segments:\n",
    "    # Fit Gaussian Mixture Model\n",
    "    gmm = GaussianMixture(n_components=n, random_state=1234)\n",
    "    gmm.fit(MD_x)\n",
    "\n",
    "    # Store the model in the results dictionary\n",
    "    results[str(n)] = gmm\n",
    "\n",
    "# Print the results\n",
    "for n, model in results.items():\n",
    "    print(f\"Number of Segments: {n}\")\n",
    "    print(model)\n",
    "    print()"
   ]
  },
  {
   "cell_type": "code",
   "execution_count": 22,
   "id": "7d70f882",
   "metadata": {},
   "outputs": [
    {
     "name": "stdout",
     "output_type": "stream",
     "text": [
      "Cluster assignments are equal: False\n"
     ]
    }
   ],
   "source": [
    "import numpy as np\n",
    "\n",
    "kmeans_clusters = MD_k4\n",
    "mixture_clusters = MD_m4\n",
    "\n",
    "# Check if the cluster assignments are equal\n",
    "clusters_equal = np.array_equal(kmeans_clusters, mixture_clusters)\n",
    "print(\"Cluster assignments are equal:\", clusters_equal)"
   ]
  },
  {
   "cell_type": "code",
   "execution_count": 23,
   "id": "300fb1a4",
   "metadata": {},
   "outputs": [
    {
     "name": "stdout",
     "output_type": "stream",
     "text": [
      "col_0    0   1   2    3\n",
      "row_0                  \n",
      "0      449   3  46   28\n",
      "1      288  36   9   40\n",
      "2        0  87   0  152\n",
      "3        0   6  71  238\n"
     ]
    }
   ],
   "source": [
    "import pandas as pd\n",
    "\n",
    "kmeans_clusters = MD_k4\n",
    "mixture_clusters = MD_m4\n",
    "\n",
    "table = pd.crosstab(kmeans_clusters, mixture_clusters)\n",
    "print(table)"
   ]
  },
  {
   "cell_type": "code",
   "execution_count": 24,
   "id": "6fa9ddae",
   "metadata": {},
   "outputs": [
    {
     "name": "stdout",
     "output_type": "stream",
     "text": [
      "col_0    0    1    2    3\n",
      "row_0                    \n",
      "0        0  340    0  186\n",
      "1        0   49  259   65\n",
      "2      199    1   35    4\n",
      "3      256    2    0   57\n"
     ]
    }
   ],
   "source": [
    "from sklearn.mixture import GaussianMixture\n",
    "from sklearn.cluster import KMeans\n",
    "\n",
    "kmeans_clusters = MD_k4  # Replace with the k-means cluster assignments\n",
    "n_components = len(np.unique(kmeans_clusters))\n",
    "\n",
    "# Fit Gaussian mixture model with the given cluster assignments\n",
    "gmm = GaussianMixture(n_components=n_components, random_state=1234)\n",
    "gmm.fit(MD_x)\n",
    "\n",
    "# Obtain the cluster assignments from the GMM\n",
    "gmm_clusters = gmm.predict(MD_x)\n",
    "\n",
    "# Compare cluster assignments\n",
    "table = pd.crosstab(kmeans_clusters, gmm_clusters)\n",
    "print(table)"
   ]
  },
  {
   "cell_type": "code",
   "execution_count": 25,
   "id": "d12f89d3",
   "metadata": {},
   "outputs": [
    {
     "name": "stdout",
     "output_type": "stream",
     "text": [
      "log Lik. MD.m4a: 4.8714545419035264\n",
      "log Lik. MD.m4: 4.8714545419035264\n"
     ]
    }
   ],
   "source": [
    "from sklearn.mixture import GaussianMixture\n",
    "\n",
    "# Fit Gaussian mixture model with the given cluster assignments\n",
    "gmm_a = GaussianMixture(n_components=n_components, random_state=1234)\n",
    "gmm_a.fit(MD_x)\n",
    "\n",
    "# Compute log-likelihood for MD.m4a\n",
    "log_likelihood_a = gmm_a.score(MD_x)\n",
    "\n",
    "# Compute log-likelihood for MD.m4 (using previous GMM fitting)\n",
    "log_likelihood_m4 = gmm.score(MD_x)\n",
    "\n",
    "print(\"log Lik. MD.m4a:\", log_likelihood_a)\n",
    "print(\"log Lik. MD.m4:\", log_likelihood_m4)\n"
   ]
  },
  {
   "cell_type": "code",
   "execution_count": null,
   "id": "8033d7b7",
   "metadata": {},
   "outputs": [],
   "source": []
  },
  {
   "cell_type": "markdown",
   "id": "ef4665d3",
   "metadata": {},
   "source": [
    "# Using Mixtures of Regression Models"
   ]
  },
  {
   "cell_type": "code",
   "execution_count": 26,
   "id": "622d29bc",
   "metadata": {},
   "outputs": [
    {
     "name": "stdout",
     "output_type": "stream",
     "text": [
      "1452              -3\n",
      "1451              +4\n",
      "1450              +3\n",
      "1449              +2\n",
      "1448    I hate it!-5\n",
      "            ...     \n",
      "4                 +2\n",
      "3                 +4\n",
      "2                 +1\n",
      "1                 +2\n",
      "0                 -3\n",
      "Name: Like, Length: 1453, dtype: object\n"
     ]
    }
   ],
   "source": [
    "import pandas as pd\n",
    "\n",
    "# Reverse the table\n",
    "reversed_table = mcdonalds['Like'][::-1]\n",
    "\n",
    "# Print the reversed table\n",
    "print(reversed_table)"
   ]
  },
  {
   "cell_type": "code",
   "execution_count": 30,
   "id": "d8935558",
   "metadata": {},
   "outputs": [
    {
     "name": "stdout",
     "output_type": "stream",
     "text": [
      "3.0     229\n",
      "4.0     187\n",
      "6.0     169\n",
      "2.0     160\n",
      "5.0     152\n",
      "9.0      73\n",
      "10.0     71\n",
      "8.0      59\n",
      "7.0      58\n",
      "Name: Like.n, dtype: int64\n"
     ]
    }
   ],
   "source": [
    "mcdonalds['Like.n'] = 6 - pd.to_numeric(mcdonalds['Like'], errors='coerce')\n",
    "import pandas as pd\n",
    "\n",
    "table = mcdonalds['Like.n'].value_counts()\n",
    "print(table)"
   ]
  },
  {
   "cell_type": "code",
   "execution_count": 48,
   "id": "fabea533",
   "metadata": {},
   "outputs": [
    {
     "name": "stdout",
     "output_type": "stream",
     "text": [
      "Weights:\n",
      "[0.32209222 0.67790778]\n",
      "Means:\n",
      "[[0.27991453 0.71367521 0.09615385 0.90384615 0.72222222 0.69017094\n",
      "  0.45726496 0.36538462 0.52564103 0.10683761 0.7542735 ]\n",
      " [0.6822335  1.         0.09238579 0.84974619 0.43350254 1.\n",
      "  0.66598985 0.77664975 0.27817259 0.24263959 0.        ]]\n",
      "Covariances:\n",
      "[[[ 2.01563386e-01  3.52746731e-02  1.79569362e-02 -1.36834319e-02\n",
      "   -2.05365622e-02 -3.50692161e-02  1.51672876e-02  1.45586785e-01\n",
      "    4.57484110e-03  4.06074220e-02 -7.22432246e-02]\n",
      "  [ 3.52746731e-02  2.04343903e-01  8.30046022e-03  2.16140697e-02\n",
      "    8.07217472e-03  5.30535470e-03  2.62254365e-02  4.47896121e-02\n",
      "   -2.25728687e-02  9.22273357e-03  1.51124990e-02]\n",
      "  [ 1.79569362e-02  8.30046022e-03  8.69092840e-02  2.83530572e-03\n",
      "    7.47863248e-03  6.28698224e-03  7.31426693e-03  1.82856673e-02\n",
      "    5.01314925e-03  2.17784352e-02  1.08070349e-02]\n",
      "  [-1.36834319e-02  2.16140697e-02  2.83530572e-03  8.69092840e-02\n",
      "    5.02136752e-02  2.57642998e-02  9.77975017e-03 -1.18754109e-02\n",
      "    7.80736358e-03 -1.53681788e-02  3.83382643e-02]\n",
      "  [-2.05365622e-02  8.07217472e-03  7.47863248e-03  5.02136752e-02\n",
      "    2.00618284e-01  3.35944919e-02  7.35992402e-03 -1.17521368e-02\n",
      "    2.20797721e-02 -2.16049383e-02  6.63580247e-02]\n",
      "  [-3.50692161e-02  5.30535470e-03  6.28698224e-03  2.57642998e-02\n",
      "    3.35944919e-02  2.13836013e-01  7.11611513e-02 -2.14086127e-02\n",
      "   -3.79958361e-02 -1.60439039e-02  1.03353970e-01]\n",
      "  [ 1.51672876e-02  2.62254365e-02  7.31426693e-03  9.77975017e-03\n",
      "    7.35992402e-03  7.11611513e-02  2.48174716e-01  2.09566075e-02\n",
      "   -1.67707648e-01  1.52494704e-02  2.47552779e-02]\n",
      "  [ 1.45586785e-01  4.47896121e-02  1.82856673e-02 -1.18754109e-02\n",
      "   -1.17521368e-02 -2.14086127e-02  2.09566075e-02  2.31879698e-01\n",
      "   -1.89020383e-03  4.21597633e-02 -6.83349771e-02]\n",
      "  [ 4.57484110e-03 -2.25728687e-02  5.01314925e-03  7.80736358e-03\n",
      "    2.20797721e-02 -3.79958361e-02 -1.67707648e-01 -1.89020383e-03\n",
      "    2.49343538e-01 -6.02673673e-04  9.58799079e-04]\n",
      "  [ 4.06074220e-02  9.22273357e-03  2.17784352e-02 -1.53681788e-02\n",
      "   -2.16049383e-02 -1.60439039e-02  1.52494704e-02  4.21597633e-02\n",
      "   -6.02673673e-04  9.54243326e-02 -2.28924684e-02]\n",
      "  [-7.22432246e-02  1.51124990e-02  1.08070349e-02  3.83382643e-02\n",
      "    6.63580247e-02  1.03353970e-01  2.47552779e-02 -6.83349771e-02\n",
      "    9.58799079e-04 -2.28924684e-02  1.85345985e-01]]\n",
      "\n",
      " [[ 2.16791951e-01  1.49346986e-29 -6.17588704e-03 -8.15171739e-03\n",
      "   -8.44031024e-03  1.49346986e-29  3.50743384e-03  1.18874488e-01\n",
      "    8.19088355e-03  3.54783684e-02  0.00000000e+00]\n",
      "  [ 1.50179895e-29  1.00000000e-06  1.95733609e-30  1.82487153e-29\n",
      "    8.81602116e-30  2.17429787e-29  1.41274176e-29  1.55938180e-29\n",
      "    5.74386844e-30  5.09996573e-30  0.00000000e+00]\n",
      "  [-6.17588704e-03  1.95733609e-30  8.38516532e-02 -7.43848077e-03\n",
      "    7.66626298e-03  1.95733609e-30  4.00937925e-04  4.39073411e-03\n",
      "    6.78811616e-03  8.04040300e-03  0.00000000e+00]\n",
      "  [-8.15171739e-03  1.82262908e-29 -7.43848077e-03  1.27678601e-01\n",
      "    5.09222088e-02  1.82262908e-29 -7.54670309e-03 -8.17851530e-03\n",
      "    1.33700946e-02 -5.79587209e-02  0.00000000e+00]\n",
      "  [-8.44031024e-03  8.81602116e-30  7.66626298e-03  5.09222088e-02\n",
      "    2.45579088e-01  8.81602116e-30 -1.05357005e-02 -1.38369966e-02\n",
      "    1.84977711e-02 -3.91950321e-02  0.00000000e+00]\n",
      "  [ 1.50179895e-29  2.17429787e-29  1.95733609e-30  1.82503171e-29\n",
      "    8.81281767e-30  1.00000000e-06  1.41274176e-29  1.55938180e-29\n",
      "    5.74386844e-30  5.09996573e-30  0.00000000e+00]\n",
      "  [ 3.50743384e-03  1.41362272e-29  4.00937925e-04 -7.54670309e-03\n",
      "   -1.05357005e-02  1.41362272e-29  2.22448370e-01  1.06779355e-02\n",
      "   -1.53788039e-01  2.11456106e-02  0.00000000e+00]\n",
      "  [ 1.18874488e-01  1.55617830e-29  4.39073411e-03 -8.17851530e-03\n",
      "   -1.38369966e-02  1.55617830e-29  1.06779355e-02  1.73465918e-01\n",
      "   -1.82947255e-03  2.57672189e-02  0.00000000e+00]\n",
      "  [ 8.19088355e-03  5.69581600e-30  6.78811616e-03  1.33700946e-02\n",
      "    1.84977711e-02  5.69581600e-30 -1.53788039e-01 -1.82947255e-03\n",
      "    2.00793600e-01 -8.61243526e-03  0.00000000e+00]\n",
      "  [ 3.54783684e-02  5.08394825e-30  8.04040300e-03 -5.79587209e-02\n",
      "   -3.91950321e-02  5.08394825e-30  2.11456106e-02  2.57672189e-02\n",
      "   -8.61243526e-03  1.83766621e-01  0.00000000e+00]\n",
      "  [ 0.00000000e+00  0.00000000e+00  0.00000000e+00  0.00000000e+00\n",
      "    0.00000000e+00  0.00000000e+00  0.00000000e+00  0.00000000e+00\n",
      "    0.00000000e+00  0.00000000e+00  1.00000000e-06]]]\n"
     ]
    }
   ],
   "source": [
    "import pandas as pd\n",
    "from sklearn.mixture import GaussianMixture\n",
    "from sklearn.preprocessing import LabelEncoder\n",
    "\n",
    "# Assuming you have prepared the 'mcdonalds' DataFrame and 'Like.n' column as mentioned earlier\n",
    "\n",
    "# Encode categorical variables to numerical values\n",
    "encoded_mcdonalds = mcdonalds.copy()\n",
    "categorical_columns = ['yummy', 'convenient', 'spicy', 'fattening', 'greasy', 'fast', 'cheap', 'tasty', 'expensive', 'healthy', 'disgusting']\n",
    "label_encoder = LabelEncoder()\n",
    "for column in categorical_columns:\n",
    "    encoded_mcdonalds[column] = label_encoder.fit_transform(encoded_mcdonalds[column])\n",
    "\n",
    "# Fit the Gaussian Mixture Model\n",
    "column_names = encoded_mcdonalds.columns[:11]\n",
    "data = encoded_mcdonalds[column_names].values\n",
    "model = GaussianMixture(n_components=2)\n",
    "model.fit(data)\n",
    "\n",
    "# Obtain the refit model\n",
    "MD_ref2 = model\n",
    "\n",
    "# Print the summary\n",
    "print(\"Weights:\")\n",
    "print(MD_ref2.weights_)\n",
    "print(\"Means:\")\n",
    "print(MD_ref2.means_)\n",
    "print(\"Covariances:\")\n",
    "print(MD_ref2.covariances_)"
   ]
  },
  {
   "cell_type": "code",
   "execution_count": null,
   "id": "4f246b09",
   "metadata": {},
   "outputs": [],
   "source": []
  }
 ],
 "metadata": {
  "kernelspec": {
   "display_name": "Python 3 (ipykernel)",
   "language": "python",
   "name": "python3"
  },
  "language_info": {
   "codemirror_mode": {
    "name": "ipython",
    "version": 3
   },
   "file_extension": ".py",
   "mimetype": "text/x-python",
   "name": "python",
   "nbconvert_exporter": "python",
   "pygments_lexer": "ipython3",
   "version": "3.9.13"
  }
 },
 "nbformat": 4,
 "nbformat_minor": 5
}
